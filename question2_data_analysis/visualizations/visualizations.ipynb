{
 "cells": [
  {
   "metadata": {},
   "cell_type": "markdown",
   "source": [
    "# Data Visualization Analysis\n",
    "\n",
    "This notebook creates visualizations for the cleaned dataset including:\n",
    "- Price distribution analysis (histogram and box plots)\n",
    "- Rating vs Price correlation analysis\n",
    "- Interactive visualizations for better data exploration"
   ],
   "id": "96a5e8b533b9981f"
  },
  {
   "metadata": {
    "ExecuteTime": {
     "end_time": "2025-09-26T17:14:51.780678Z",
     "start_time": "2025-09-26T17:14:51.772385Z"
    }
   },
   "cell_type": "code",
   "source": [
    "import pandas as pd\n",
    "import numpy as np\n",
    "import matplotlib.pyplot as plt\n",
    "import seaborn as sns"
   ],
   "id": "689abad3e9f7374b",
   "outputs": [],
   "execution_count": 25
  },
  {
   "metadata": {
    "ExecuteTime": {
     "end_time": "2025-09-26T17:14:51.819306Z",
     "start_time": "2025-09-26T17:14:51.794817Z"
    }
   },
   "cell_type": "code",
   "source": [
    "import plotly.express as px\n",
    "import plotly.graph_objects as go\n",
    "from plotly.subplots import make_subplots"
   ],
   "id": "842795187a4dcf05",
   "outputs": [],
   "execution_count": 26
  },
  {
   "metadata": {
    "ExecuteTime": {
     "end_time": "2025-09-26T17:14:51.841567Z",
     "start_time": "2025-09-26T17:14:51.827642Z"
    }
   },
   "cell_type": "code",
   "source": "df = pd.read_csv(\"../data_processing/cleaned_data.csv\")",
   "id": "dd95d6bb7e002912",
   "outputs": [],
   "execution_count": 27
  },
  {
   "metadata": {
    "ExecuteTime": {
     "end_time": "2025-09-26T17:14:51.883331Z",
     "start_time": "2025-09-26T17:14:51.865445Z"
    }
   },
   "cell_type": "code",
   "source": "df",
   "id": "e08c8b38e698e4d4",
   "outputs": [
    {
     "data": {
      "text/plain": [
       "                                                 title  price  rating  \\\n",
       "0                                 a light in the attic  51.77       3   \n",
       "1                                   tipping the velvet  53.74       1   \n",
       "2                                           soumission  50.10       1   \n",
       "3                                        sharp objects  47.82       4   \n",
       "4                 sapiens a brief history of humankind  54.23       5   \n",
       "..                                                 ...    ...     ...   \n",
       "995  alice in wonderland alices adventures in wonde...  55.53       1   \n",
       "996           ajin demihuman volume 1 ajin demihuman 1  57.06       4   \n",
       "997      a spys devotion the regency spies of london 1  16.97       5   \n",
       "998                    1st to die womens murder club 1  53.98       1   \n",
       "999                  1000 places to see before you die  26.08       5   \n",
       "\n",
       "    availability  \n",
       "0       in stock  \n",
       "1       in stock  \n",
       "2       in stock  \n",
       "3       in stock  \n",
       "4       in stock  \n",
       "..           ...  \n",
       "995     in stock  \n",
       "996     in stock  \n",
       "997     in stock  \n",
       "998     in stock  \n",
       "999     in stock  \n",
       "\n",
       "[1000 rows x 4 columns]"
      ],
      "text/html": [
       "<div>\n",
       "<style scoped>\n",
       "    .dataframe tbody tr th:only-of-type {\n",
       "        vertical-align: middle;\n",
       "    }\n",
       "\n",
       "    .dataframe tbody tr th {\n",
       "        vertical-align: top;\n",
       "    }\n",
       "\n",
       "    .dataframe thead th {\n",
       "        text-align: right;\n",
       "    }\n",
       "</style>\n",
       "<table border=\"1\" class=\"dataframe\">\n",
       "  <thead>\n",
       "    <tr style=\"text-align: right;\">\n",
       "      <th></th>\n",
       "      <th>title</th>\n",
       "      <th>price</th>\n",
       "      <th>rating</th>\n",
       "      <th>availability</th>\n",
       "    </tr>\n",
       "  </thead>\n",
       "  <tbody>\n",
       "    <tr>\n",
       "      <th>0</th>\n",
       "      <td>a light in the attic</td>\n",
       "      <td>51.77</td>\n",
       "      <td>3</td>\n",
       "      <td>in stock</td>\n",
       "    </tr>\n",
       "    <tr>\n",
       "      <th>1</th>\n",
       "      <td>tipping the velvet</td>\n",
       "      <td>53.74</td>\n",
       "      <td>1</td>\n",
       "      <td>in stock</td>\n",
       "    </tr>\n",
       "    <tr>\n",
       "      <th>2</th>\n",
       "      <td>soumission</td>\n",
       "      <td>50.10</td>\n",
       "      <td>1</td>\n",
       "      <td>in stock</td>\n",
       "    </tr>\n",
       "    <tr>\n",
       "      <th>3</th>\n",
       "      <td>sharp objects</td>\n",
       "      <td>47.82</td>\n",
       "      <td>4</td>\n",
       "      <td>in stock</td>\n",
       "    </tr>\n",
       "    <tr>\n",
       "      <th>4</th>\n",
       "      <td>sapiens a brief history of humankind</td>\n",
       "      <td>54.23</td>\n",
       "      <td>5</td>\n",
       "      <td>in stock</td>\n",
       "    </tr>\n",
       "    <tr>\n",
       "      <th>...</th>\n",
       "      <td>...</td>\n",
       "      <td>...</td>\n",
       "      <td>...</td>\n",
       "      <td>...</td>\n",
       "    </tr>\n",
       "    <tr>\n",
       "      <th>995</th>\n",
       "      <td>alice in wonderland alices adventures in wonde...</td>\n",
       "      <td>55.53</td>\n",
       "      <td>1</td>\n",
       "      <td>in stock</td>\n",
       "    </tr>\n",
       "    <tr>\n",
       "      <th>996</th>\n",
       "      <td>ajin demihuman volume 1 ajin demihuman 1</td>\n",
       "      <td>57.06</td>\n",
       "      <td>4</td>\n",
       "      <td>in stock</td>\n",
       "    </tr>\n",
       "    <tr>\n",
       "      <th>997</th>\n",
       "      <td>a spys devotion the regency spies of london 1</td>\n",
       "      <td>16.97</td>\n",
       "      <td>5</td>\n",
       "      <td>in stock</td>\n",
       "    </tr>\n",
       "    <tr>\n",
       "      <th>998</th>\n",
       "      <td>1st to die womens murder club 1</td>\n",
       "      <td>53.98</td>\n",
       "      <td>1</td>\n",
       "      <td>in stock</td>\n",
       "    </tr>\n",
       "    <tr>\n",
       "      <th>999</th>\n",
       "      <td>1000 places to see before you die</td>\n",
       "      <td>26.08</td>\n",
       "      <td>5</td>\n",
       "      <td>in stock</td>\n",
       "    </tr>\n",
       "  </tbody>\n",
       "</table>\n",
       "<p>1000 rows × 4 columns</p>\n",
       "</div>"
      ]
     },
     "execution_count": 28,
     "metadata": {},
     "output_type": "execute_result"
    }
   ],
   "execution_count": 28
  },
  {
   "metadata": {
    "ExecuteTime": {
     "end_time": "2025-09-26T17:14:52.306707Z",
     "start_time": "2025-09-26T17:14:51.974498Z"
    }
   },
   "cell_type": "code",
   "source": [
    "plt.figure(figsize=(12, 5))\n",
    "\n",
    "plt.subplot(1, 2, 1)\n",
    "plt.hist(df['price'], bins=30, color='skyblue', edgecolor='black', alpha=0.7)\n",
    "plt.title('Price Distribution')\n",
    "plt.xlabel('Price')\n",
    "plt.ylabel('Frequency')\n",
    "\n",
    "plt.subplot(1, 2, 2)\n",
    "sns.boxplot(data=df, y='price', color='lightcoral')\n",
    "plt.title('Price Distribution Box Plot')\n",
    "\n",
    "plt.tight_layout()\n",
    "plt.show()"
   ],
   "id": "fe378dee3a51510",
   "outputs": [
    {
     "data": {
      "text/plain": [
       "<Figure size 1200x500 with 2 Axes>"
      ],
      "image/png": "[encoded data removed]"
     },
     "metadata": {},
     "output_type": "display_data",
     "jetTransient": {
      "display_id": null
     }
    }
   ],
   "execution_count": 29
  },
  {
   "metadata": {
    "ExecuteTime": {
     "end_time": "2025-09-26T17:14:52.630838Z",
     "start_time": "2025-09-26T17:14:52.386884Z"
    }
   },
   "cell_type": "code",
   "source": [
    "plt.figure(figsize=(10, 6))\n",
    "plt.scatter(df['rating'], df['price'], alpha=0.6, color='purple')\n",
    "plt.xlabel('Rating')\n",
    "plt.ylabel('Price')\n",
    "plt.title('Rating vs Price Scatter Plot')\n",
    "\n",
    "z = np.polyfit(df['rating'], df['price'], 1)\n",
    "p = np.poly1d(z)\n",
    "plt.plot(df['rating'], p(df['rating']), \"r--\", alpha=0.8, linewidth=2)\n",
    "\n",
    "correlation = df['rating'].corr(df['price'])\n",
    "plt.text(0.05, 0.95, f'Correlation: {correlation:.3f}',\n",
    "         transform=plt.gca().transAxes, bbox=dict(boxstyle='round', facecolor='white'))\n",
    "plt.show()"
   ],
   "id": "ad8c3bbedb8f886b",
   "outputs": [
    {
     "data": {
      "text/plain": [
       "<Figure size 1000x600 with 1 Axes>"
      ],
      "image/png": "[encoded data removed]"
     },
     "metadata": {},
     "output_type": "display_data",
     "jetTransient": {
      "display_id": null
     }
    }
   ],
   "execution_count": 30
  },
  {
   "metadata": {
    "ExecuteTime": {
     "end_time": "2025-09-26T17:14:52.754162Z",
     "start_time": "2025-09-26T17:14:52.681041Z"
    }
   },
   "cell_type": "code",
   "source": [
    "fig = px.histogram(df, x='price', nbins=30, title='Interactive Price Distribution',\n",
    "                   labels={'price': 'Price', 'count': 'Frequency'})\n",
    "fig.update_layout(bargap=0.2)\n",
    "fig.show()"
   ],
   "id": "23599c729fac90cf",
   "outputs": [
    {
     "data": {
      "application/vnd.plotly.v1+json": {
       "data": [
        {
         "bingroup": "x",
         "hovertemplate": "Price=%{x}<br>count=%{y}<extra></extra>",
         "legendgroup": "",
         "marker": {
          "color": "#636efa",
          "pattern": {
           "shape": ""
          }
         },
         "name": "",
         "nbinsx": 30,
         "orientation": "v",
         "showlegend": false,
         "x": {
          "dtype": "f8",
          "bdata": "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"
         },
         "xaxis": "x",
         "yaxis": "y",
         "type": "histogram"
        }
       ],
       "layout": {
        "template": {
         "data": {
          "histogram2dcontour": [
           {
            "type": "histogram2dcontour",
            "colorbar": {
             "outlinewidth": 0,
             "ticks": ""
            },
            "colorscale": [
             [
              0.0,
              "#0d0887"
             ],
             [
              0.1111111111111111,
              "#46039f"
             ],
             [
              0.2222222222222222,
              "#7201a8"
             ],
             [
              0.3333333333333333,
              "#9c179e"
             ],
             [
              0.4444444444444444,
              "#bd3786"
             ],
             [
              0.5555555555555556,
              "#d8576b"
             ],
             [
              0.6666666666666666,
              "#ed7953"
             ],
             [
              0.7777777777777778,
              "#fb9f3a"
             ],
             [
              0.8888888888888888,
              "#fdca26"
             ],
             [
              1.0,
              "#f0f921"
             ]
            ]
           }
          ],
          "choropleth": [
           {
            "type": "choropleth",
            "colorbar": {
             "outlinewidth": 0,
             "ticks": ""
            }
           }
          ],
          "histogram2d": [
           {
            "type": "histogram2d",
            "colorbar": {
             "outlinewidth": 0,
             "ticks": ""
            },
            "colorscale": [
             [
              0.0,
              "#0d0887"
             ],
             [
              0.1111111111111111,
              "#46039f"
             ],
             [
              0.2222222222222222,
              "#7201a8"
             ],
             [
              0.3333333333333333,
              "#9c179e"
             ],
             [
              0.4444444444444444,
              "#bd3786"
             ],
             [
              0.5555555555555556,
              "#d8576b"
             ],
             [
              0.6666666666666666,
              "#ed7953"
             ],
             [
              0.7777777777777778,
              "#fb9f3a"
             ],
             [
              0.8888888888888888,
              "#fdca26"
             ],
             [
              1.0,
              "#f0f921"
             ]
            ]
           }
          ],
          "heatmap": [
           {
            "type": "heatmap",
            "colorbar": {
             "outlinewidth": 0,
             "ticks": ""
            },
            "colorscale": [
             [
              0.0,
              "#0d0887"
             ],
             [
              0.1111111111111111,
              "#46039f"
             ],
             [
              0.2222222222222222,
              "#7201a8"
             ],
             [
              0.3333333333333333,
              "#9c179e"
             ],
             [
              0.4444444444444444,
              "#bd3786"
             ],
             [
              0.5555555555555556,
              "#d8576b"
             ],
             [
              0.6666666666666666,
              "#ed7953"
             ],
             [
              0.7777777777777778,
              "#fb9f3a"
             ],
             [
              0.8888888888888888,
              "#fdca26"
             ],
             [
              1.0,
              "#f0f921"
             ]
            ]
           }
          ],
          "contourcarpet": [
           {
            "type": "contourcarpet",
            "colorbar": {
             "outlinewidth": 0,
             "ticks": ""
            }
           }
          ],
          "contour": [
           {
            "type": "contour",
            "colorbar": {
             "outlinewidth": 0,
             "ticks": ""
            },
            "colorscale": [
             [
              0.0,
              "#0d0887"
             ],
             [
              0.1111111111111111,
              "#46039f"
             ],
             [
              0.2222222222222222,
              "#7201a8"
             ],
             [
              0.3333333333333333,
              "#9c179e"
             ],
             [
              0.4444444444444444,
              "#bd3786"
             ],
             [
              0.5555555555555556,
              "#d8576b"
             ],
             [
              0.6666666666666666,
              "#ed7953"
             ],
             [
              0.7777777777777778,
              "#fb9f3a"
             ],
             [
              0.8888888888888888,
              "#fdca26"
             ],
             [
              1.0,
              "#f0f921"
             ]
            ]
           }
          ],
          "surface": [
           {
            "type": "surface",
            "colorbar": {
             "outlinewidth": 0,
             "ticks": ""
            },
            "colorscale": [
             [
              0.0,
              "#0d0887"
             ],
             [
              0.1111111111111111,
              "#46039f"
             ],
             [
              0.2222222222222222,
              "#7201a8"
             ],
             [
              0.3333333333333333,
              "#9c179e"
             ],
             [
              0.4444444444444444,
              "#bd3786"
             ],
             [
              0.5555555555555556,
              "#d8576b"
             ],
             [
              0.6666666666666666,
              "#ed7953"
             ],
             [
              0.7777777777777778,
              "#fb9f3a"
             ],
             [
              0.8888888888888888,
              "#fdca26"
             ],
             [
              1.0,
              "#f0f921"
             ]
            ]
           }
          ],
          "mesh3d": [
           {
            "type": "mesh3d",
            "colorbar": {
             "outlinewidth": 0,
             "ticks": ""
            }
           }
          ],
          "scatter": [
           {
            "fillpattern": {
             "fillmode": "overlay",
             "size": 10,
             "solidity": 0.2
            },
            "type": "scatter"
           }
          ],
          "parcoords": [
           {
            "type": "parcoords",
            "line": {
             "colorbar": {
              "outlinewidth": 0,
              "ticks": ""
             }
            }
           }
          ],
          "scatterpolargl": [
           {
            "type": "scatterpolargl",
            "marker": {
             "colorbar": {
              "outlinewidth": 0,
              "ticks": ""
             }
            }
           }
          ],
          "bar": [
           {
            "error_x": {
             "color": "#2a3f5f"
            },
            "error_y": {
             "color": "#2a3f5f"
            },
            "marker": {
             "line": {
              "color": "#E5ECF6",
              "width": 0.5
             },
             "pattern": {
              "fillmode": "overlay",
              "size": 10,
              "solidity": 0.2
             }
            },
            "type": "bar"
           }
          ],
          "scattergeo": [
           {
            "type": "scattergeo",
            "marker": {
             "colorbar": {
              "outlinewidth": 0,
              "ticks": ""
             }
            }
           }
          ],
          "scatterpolar": [
           {
            "type": "scatterpolar",
            "marker": {
             "colorbar": {
              "outlinewidth": 0,
              "ticks": ""
             }
            }
           }
          ],
          "histogram": [
           {
            "marker": {
             "pattern": {
              "fillmode": "overlay",
              "size": 10,
              "solidity": 0.2
             }
            },
            "type": "histogram"
           }
          ],
          "scattergl": [
           {
            "type": "scattergl",
            "marker": {
             "colorbar": {
              "outlinewidth": 0,
              "ticks": ""
             }
            }
           }
          ],
          "scatter3d": [
           {
            "type": "scatter3d",
            "line": {
             "colorbar": {
              "outlinewidth": 0,
              "ticks": ""
             }
            },
            "marker": {
             "colorbar": {
              "outlinewidth": 0,
              "ticks": ""
             }
            }
           }
          ],
          "scattermap": [
           {
            "type": "scattermap",
            "marker": {
             "colorbar": {
              "outlinewidth": 0,
              "ticks": ""
             }
            }
           }
          ],
          "scattermapbox": [
           {
            "type": "scattermapbox",
            "marker": {
             "colorbar": {
              "outlinewidth": 0,
              "ticks": ""
             }
            }
           }
          ],
          "scatterternary": [
           {
            "type": "scatterternary",
            "marker": {
             "colorbar": {
              "outlinewidth": 0,
              "ticks": ""
             }
            }
           }
          ],
          "scattercarpet": [
           {
            "type": "scattercarpet",
            "marker": {
             "colorbar": {
              "outlinewidth": 0,
              "ticks": ""
             }
            }
           }
          ],
          "carpet": [
           {
            "aaxis": {
             "endlinecolor": "#2a3f5f",
             "gridcolor": "white",
             "linecolor": "white",
             "minorgridcolor": "white",
             "startlinecolor": "#2a3f5f"
            },
            "baxis": {
             "endlinecolor": "#2a3f5f",
             "gridcolor": "white",
             "linecolor": "white",
             "minorgridcolor": "white",
             "startlinecolor": "#2a3f5f"
            },
            "type": "carpet"
           }
          ],
          "table": [
           {
            "cells": {
             "fill": {
              "color": "#EBF0F8"
             },
             "line": {
              "color": "white"
             }
            },
            "header": {
             "fill": {
              "color": "#C8D4E3"
             },
             "line": {
              "color": "white"
             }
            },
            "type": "table"
           }
          ],
          "barpolar": [
           {
            "marker": {
             "line": {
              "color": "#E5ECF6",
              "width": 0.5
             },
             "pattern": {
              "fillmode": "overlay",
              "size": 10,
              "solidity": 0.2
             }
            },
            "type": "barpolar"
           }
          ],
          "pie": [
           {
            "automargin": true,
            "type": "pie"
           }
          ]
         },
         "layout": {
          "autotypenumbers": "strict",
          "colorway": [
           "#636efa",
           "#EF553B",
           "#00cc96",
           "#ab63fa",
           "#FFA15A",
           "#19d3f3",
           "#FF6692",
           "#B6E880",
           "#FF97FF",
           "#FECB52"
          ],
          "font": {
           "color": "#2a3f5f"
          },
          "hovermode": "closest",
          "hoverlabel": {
           "align": "left"
          },
          "paper_bgcolor": "white",
          "plot_bgcolor": "#E5ECF6",
          "polar": {
           "bgcolor": "#E5ECF6",
           "angularaxis": {
            "gridcolor": "white",
            "linecolor": "white",
            "ticks": ""
           },
           "radialaxis": {
            "gridcolor": "white",
            "linecolor": "white",
            "ticks": ""
           }
          },
          "ternary": {
           "bgcolor": "#E5ECF6",
           "aaxis": {
            "gridcolor": "white",
            "linecolor": "white",
            "ticks": ""
           },
           "baxis": {
            "gridcolor": "white",
            "linecolor": "white",
            "ticks": ""
           },
           "caxis": {
            "gridcolor": "white",
            "linecolor": "white",
            "ticks": ""
           }
          },
          "coloraxis": {
           "colorbar": {
            "outlinewidth": 0,
            "ticks": ""
           }
          },
          "colorscale": {
           "sequential": [
            [
             0.0,
             "#0d0887"
            ],
            [
             0.1111111111111111,
             "#46039f"
            ],
            [
             0.2222222222222222,
             "#7201a8"
            ],
            [
             0.3333333333333333,
             "#9c179e"
            ],
            [
             0.4444444444444444,
             "#bd3786"
            ],
            [
             0.5555555555555556,
             "#d8576b"
            ],
            [
             0.6666666666666666,
             "#ed7953"
            ],
            [
             0.7777777777777778,
             "#fb9f3a"
            ],
            [
             0.8888888888888888,
             "#fdca26"
            ],
            [
             1.0,
             "#f0f921"
            ]
           ],
           "sequentialminus": [
            [
             0.0,
             "#0d0887"
            ],
            [
             0.1111111111111111,
             "#46039f"
            ],
            [
             0.2222222222222222,
             "#7201a8"
            ],
            [
             0.3333333333333333,
             "#9c179e"
            ],
            [
             0.4444444444444444,
             "#bd3786"
            ],
            [
             0.5555555555555556,
             "#d8576b"
            ],
            [
             0.6666666666666666,
             "#ed7953"
            ],
            [
             0.7777777777777778,
             "#fb9f3a"
            ],
            [
             0.8888888888888888,
             "#fdca26"
            ],
            [
             1.0,
             "#f0f921"
            ]
           ],
           "diverging": [
            [
             0,
             "#8e0152"
            ],
            [
             0.1,
             "#c51b7d"
            ],
            [
             0.2,
             "#de77ae"
            ],
            [
             0.3,
             "#f1b6da"
            ],
            [
             0.4,
             "#fde0ef"
            ],
            [
             0.5,
             "#f7f7f7"
            ],
            [
             0.6,
             "#e6f5d0"
            ],
            [
             0.7,
             "#b8e186"
            ],
            [
             0.8,
             "#7fbc41"
            ],
            [
             0.9,
             "#4d9221"
            ],
            [
             1,
             "#276419"
            ]
           ]
          },
          "xaxis": {
           "gridcolor": "white",
           "linecolor": "white",
           "ticks": "",
           "title": {
            "standoff": 15
           },
           "zerolinecolor": "white",
           "automargin": true,
           "zerolinewidth": 2
          },
          "yaxis": {
           "gridcolor": "white",
           "linecolor": "white",
           "ticks": "",
           "title": {
            "standoff": 15
           },
           "zerolinecolor": "white",
           "automargin": true,
           "zerolinewidth": 2
          },
          "scene": {
           "xaxis": {
            "backgroundcolor": "#E5ECF6",
            "gridcolor": "white",
            "linecolor": "white",
            "showbackground": true,
            "ticks": "",
            "zerolinecolor": "white",
            "gridwidth": 2
           },
           "yaxis": {
            "backgroundcolor": "#E5ECF6",
            "gridcolor": "white",
            "linecolor": "white",
            "showbackground": true,
            "ticks": "",
            "zerolinecolor": "white",
            "gridwidth": 2
           },
           "zaxis": {
            "backgroundcolor": "#E5ECF6",
            "gridcolor": "white",
            "linecolor": "white",
            "showbackground": true,
            "ticks": "",
            "zerolinecolor": "white",
            "gridwidth": 2
           }
          },
          "shapedefaults": {
           "line": {
            "color": "#2a3f5f"
           }
          },
          "annotationdefaults": {
           "arrowcolor": "#2a3f5f",
           "arrowhead": 0,
           "arrowwidth": 1
          },
          "geo": {
           "bgcolor": "white",
           "landcolor": "#E5ECF6",
           "subunitcolor": "white",
           "showland": true,
           "showlakes": true,
           "lakecolor": "white"
          },
          "title": {
           "x": 0.05
          },
          "mapbox": {
           "style": "light"
          }
         }
        },
        "xaxis": {
         "anchor": "y",
         "domain": [
          0.0,
          1.0
         ],
         "title": {
          "text": "Price"
         }
        },
        "yaxis": {
         "anchor": "x",
         "domain": [
          0.0,
          1.0
         ],
         "title": {
          "text": "count"
         }
        },
        "legend": {
         "tracegroupgap": 0
        },
        "title": {
         "text": "Interactive Price Distribution"
        },
        "barmode": "relative",
        "bargap": 0.2
       },
       "config": {
        "plotlyServerURL": "https://plot.ly"
       }
      }
     },
     "metadata": {},
     "output_type": "display_data",
     "jetTransient": {
      "display_id": null
     }
    }
   ],
   "execution_count": 31
  },
  {
   "metadata": {
    "ExecuteTime": {
     "end_time": "2025-09-26T17:14:52.913397Z",
     "start_time": "2025-09-26T17:14:52.830316Z"
    }
   },
   "cell_type": "code",
   "source": [
    "fig = px.scatter(df, x='rating', y='price',\n",
    "                 title='Interactive Rating vs Price'\n",
    "                 )\n",
    "fig.show()"
   ],
   "id": "22307a8d354f9240",
   "outputs": [
    {
     "data": {
      "application/vnd.plotly.v1+json": {
       "data": [
        {
         "hovertemplate": "rating=%{x}<br>price=%{y}<extra></extra>",
         "legendgroup": "",
         "marker": {
          "color": "#636efa",
          "symbol": "circle"
         },
         "mode": "markers",
         "name": "",
         "orientation": "v",
         "showlegend": false,
         "x": {
          "dtype": "i1",
          "bdata": "AwEBBAUBBAMEAQIEBQUFAwEBAgIBAgMFBQMDAwUEBQMFAQUDAgEEAgMCBQUCAQUEBAMBAQMEBQEBAQQDBAMEBAMFAQEEAwMBBQQCAgMCAgMFBQECAwQBAQMCAgIEAgMCAQIFBAUCAwEBAgMEAQICBAMEBAUDAgICAQEFAQUEAQUEBAIDAwEBBAEEBQQBBAUCAQICBQQDAQIBBAEBAgECAQMFBQIDAgQCAgIDAQUBBQEEAQEFBQECAwUCBAECBAUBAQUEBAQFAwMFAwQCAwICAgUCBAMBBQUDBQQCBAQCAQUEAgICAgICBAUDBQQFBQUBAwQBAQEDAgICAwIDAQUEAQEBAQMBBQMFBAUEBAMEAwIDBQMDAgUCAgEDAQECBQMDAgEFBAUFAQEEBAUDAQMFBQMDBAMDBQQFAgECBQUBAgMEAQQEAQEEAwMCBAUCAQUDAwQCAwUCBQUCAgIBAwEDAwEEAgEDAQUFAQIEAQUCAwMCAwQBBQMEBAQDAgUBBAUBBQQBAwQBAgIEAQMDAQIDAwIFAQIBAQQDBAQDAwUEBQMFAwIFBQQEAgEFBAIBAwUBBQEEAgEEAwECBAMDAgMBAgIFAwQCAQEBAQUDBQUDAQQFBQIDAgMFAgUBBAEBBAIEAgUBAQQDAgQEAwIFAwIFAgMBAQQEBAQDAQEDAwQFAgQFAgMEAwECAQQFAwMCBAUFBAQCBQEDAgUEBQIBAwUCBQQFAgMEBAIEAQUBAQMBAgUFAgMEAQMBAgQFAgMEBAQDBAMDBAQEAgQEAQEEAgQFAQUDBAMDAQUCAQUEAgMBBAUFAwMCBAUBBAIDBAUFBQIBAQEBAQECBQUBAwEFBQUFAgQBAgQDBAMCAwUDBQIEAgICAwUFBQUFAwUEBAQCBAMDBAQFAQMBAQQCAQIDAwEFAwEFAQQBAwEDAQUDAQMFAwIBAQICAgEDAQMDBAECAQIBBQUEAQMBAQUDAQIDAQQDBQIBAgUDAgQBBQMCAQMBAwIBAwQEBQEEBQIBBAUBAgECBQUCAwECAwEFAQICAgQEAQUEAwQCAwMEAQMBAgEDAgIBAQMDAQECAgICAwIFAgEBBAEFBQEBAwUFAwQBAgMCAQICBAQBBQUEAgIDBAUBAwMBAQMBBQUBAQUFAQICAQICBQUDAgUBAQEFAgIFAgQDAQUCBAUCBQEBAgMBAwEDAQQFAwUBBQQEBQMDBQECBAUCAQUCBQQFAwEDAwMDBAEDAQIBAgEFBQUDAQQDAwMDBAIDAwMBAwQCAQECBQEEAwECAwIFAgQCBAIBBAMDBQUEBAMEBAUCAwMCAwUEAwEFAQQDBQEBBAUBBQ=="
         },
         "xaxis": "x",
         "y": {
          "dtype": "f8",
          "bdata": "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"
         },
         "yaxis": "y",
         "type": "scatter"
        }
       ],
       "layout": {
        "template": {
         "data": {
          "histogram2dcontour": [
           {
            "type": "histogram2dcontour",
            "colorbar": {
             "outlinewidth": 0,
             "ticks": ""
            },
            "colorscale": [
             [
              0.0,
              "#0d0887"
             ],
             [
              0.1111111111111111,
              "#46039f"
             ],
             [
              0.2222222222222222,
              "#7201a8"
             ],
             [
              0.3333333333333333,
              "#9c179e"
             ],
             [
              0.4444444444444444,
              "#bd3786"
             ],
             [
              0.5555555555555556,
              "#d8576b"
             ],
             [
              0.6666666666666666,
              "#ed7953"
             ],
             [
              0.7777777777777778,
              "#fb9f3a"
             ],
             [
              0.8888888888888888,
              "#fdca26"
             ],
             [
              1.0,
              "#f0f921"
             ]
            ]
           }
          ],
          "choropleth": [
           {
            "type": "choropleth",
            "colorbar": {
             "outlinewidth": 0,
             "ticks": ""
            }
           }
          ],
          "histogram2d": [
           {
            "type": "histogram2d",
            "colorbar": {
             "outlinewidth": 0,
             "ticks": ""
            },
            "colorscale": [
             [
              0.0,
              "#0d0887"
             ],
             [
              0.1111111111111111,
              "#46039f"
             ],
             [
              0.2222222222222222,
              "#7201a8"
             ],
             [
              0.3333333333333333,
              "#9c179e"
             ],
             [
              0.4444444444444444,
              "#bd3786"
             ],
             [
              0.5555555555555556,
              "#d8576b"
             ],
             [
              0.6666666666666666,
              "#ed7953"
             ],
             [
              0.7777777777777778,
              "#fb9f3a"
             ],
             [
              0.8888888888888888,
              "#fdca26"
             ],
             [
              1.0,
              "#f0f921"
             ]
            ]
           }
          ],
          "heatmap": [
           {
            "type": "heatmap",
            "colorbar": {
             "outlinewidth": 0,
             "ticks": ""
            },
            "colorscale": [
             [
              0.0,
              "#0d0887"
             ],
             [
              0.1111111111111111,
              "#46039f"
             ],
             [
              0.2222222222222222,
              "#7201a8"
             ],
             [
              0.3333333333333333,
              "#9c179e"
             ],
             [
              0.4444444444444444,
              "#bd3786"
             ],
             [
              0.5555555555555556,
              "#d8576b"
             ],
             [
              0.6666666666666666,
              "#ed7953"
             ],
             [
              0.7777777777777778,
              "#fb9f3a"
             ],
             [
              0.8888888888888888,
              "#fdca26"
             ],
             [
              1.0,
              "#f0f921"
             ]
            ]
           }
          ],
          "contourcarpet": [
           {
            "type": "contourcarpet",
            "colorbar": {
             "outlinewidth": 0,
             "ticks": ""
            }
           }
          ],
          "contour": [
           {
            "type": "contour",
            "colorbar": {
             "outlinewidth": 0,
             "ticks": ""
            },
            "colorscale": [
             [
              0.0,
              "#0d0887"
             ],
             [
              0.1111111111111111,
              "#46039f"
             ],
             [
              0.2222222222222222,
              "#7201a8"
             ],
             [
              0.3333333333333333,
              "#9c179e"
             ],
             [
              0.4444444444444444,
              "#bd3786"
             ],
             [
              0.5555555555555556,
              "#d8576b"
             ],
             [
              0.6666666666666666,
              "#ed7953"
             ],
             [
              0.7777777777777778,
              "#fb9f3a"
             ],
             [
              0.8888888888888888,
              "#fdca26"
             ],
             [
              1.0,
              "#f0f921"
             ]
            ]
           }
          ],
          "surface": [
           {
            "type": "surface",
            "colorbar": {
             "outlinewidth": 0,
             "ticks": ""
            },
            "colorscale": [
             [
              0.0,
              "#0d0887"
             ],
             [
              0.1111111111111111,
              "#46039f"
             ],
             [
              0.2222222222222222,
              "#7201a8"
             ],
             [
              0.3333333333333333,
              "#9c179e"
             ],
             [
              0.4444444444444444,
              "#bd3786"
             ],
             [
              0.5555555555555556,
              "#d8576b"
             ],
             [
              0.6666666666666666,
              "#ed7953"
             ],
             [
              0.7777777777777778,
              "#fb9f3a"
             ],
             [
              0.8888888888888888,
              "#fdca26"
             ],
             [
              1.0,
              "#f0f921"
             ]
            ]
           }
          ],
          "mesh3d": [
           {
            "type": "mesh3d",
            "colorbar": {
             "outlinewidth": 0,
             "ticks": ""
            }
           }
          ],
          "scatter": [
           {
            "fillpattern": {
             "fillmode": "overlay",
             "size": 10,
             "solidity": 0.2
            },
            "type": "scatter"
           }
          ],
          "parcoords": [
           {
            "type": "parcoords",
            "line": {
             "colorbar": {
              "outlinewidth": 0,
              "ticks": ""
             }
            }
           }
          ],
          "scatterpolargl": [
           {
            "type": "scatterpolargl",
            "marker": {
             "colorbar": {
              "outlinewidth": 0,
              "ticks": ""
             }
            }
           }
          ],
          "bar": [
           {
            "error_x": {
             "color": "#2a3f5f"
            },
            "error_y": {
             "color": "#2a3f5f"
            },
            "marker": {
             "line": {
              "color": "#E5ECF6",
              "width": 0.5
             },
             "pattern": {
              "fillmode": "overlay",
              "size": 10,
              "solidity": 0.2
             }
            },
            "type": "bar"
           }
          ],
          "scattergeo": [
           {
            "type": "scattergeo",
            "marker": {
             "colorbar": {
              "outlinewidth": 0,
              "ticks": ""
             }
            }
           }
          ],
          "scatterpolar": [
           {
            "type": "scatterpolar",
            "marker": {
             "colorbar": {
              "outlinewidth": 0,
              "ticks": ""
             }
            }
           }
          ],
          "histogram": [
           {
            "marker": {
             "pattern": {
              "fillmode": "overlay",
              "size": 10,
              "solidity": 0.2
             }
            },
            "type": "histogram"
           }
          ],
          "scattergl": [
           {
            "type": "scattergl",
            "marker": {
             "colorbar": {
              "outlinewidth": 0,
              "ticks": ""
             }
            }
           }
          ],
          "scatter3d": [
           {
            "type": "scatter3d",
            "line": {
             "colorbar": {
              "outlinewidth": 0,
              "ticks": ""
             }
            },
            "marker": {
             "colorbar": {
              "outlinewidth": 0,
              "ticks": ""
             }
            }
           }
          ],
          "scattermap": [
           {
            "type": "scattermap",
            "marker": {
             "colorbar": {
              "outlinewidth": 0,
              "ticks": ""
             }
            }
           }
          ],
          "scattermapbox": [
           {
            "type": "scattermapbox",
            "marker": {
             "colorbar": {
              "outlinewidth": 0,
              "ticks": ""
             }
            }
           }
          ],
          "scatterternary": [
           {
            "type": "scatterternary",
            "marker": {
             "colorbar": {
              "outlinewidth": 0,
              "ticks": ""
             }
            }
           }
          ],
          "scattercarpet": [
           {
            "type": "scattercarpet",
            "marker": {
             "colorbar": {
              "outlinewidth": 0,
              "ticks": ""
             }
            }
           }
          ],
          "carpet": [
           {
            "aaxis": {
             "endlinecolor": "#2a3f5f",
             "gridcolor": "white",
             "linecolor": "white",
             "minorgridcolor": "white",
             "startlinecolor": "#2a3f5f"
            },
            "baxis": {
             "endlinecolor": "#2a3f5f",
             "gridcolor": "white",
             "linecolor": "white",
             "minorgridcolor": "white",
             "startlinecolor": "#2a3f5f"
            },
            "type": "carpet"
           }
          ],
          "table": [
           {
            "cells": {
             "fill": {
              "color": "#EBF0F8"
             },
             "line": {
              "color": "white"
             }
            },
            "header": {
             "fill": {
              "color": "#C8D4E3"
             },
             "line": {
              "color": "white"
             }
            },
            "type": "table"
           }
          ],
          "barpolar": [
           {
            "marker": {
             "line": {
              "color": "#E5ECF6",
              "width": 0.5
             },
             "pattern": {
              "fillmode": "overlay",
              "size": 10,
              "solidity": 0.2
             }
            },
            "type": "barpolar"
           }
          ],
          "pie": [
           {
            "automargin": true,
            "type": "pie"
           }
          ]
         },
         "layout": {
          "autotypenumbers": "strict",
          "colorway": [
           "#636efa",
           "#EF553B",
           "#00cc96",
           "#ab63fa",
           "#FFA15A",
           "#19d3f3",
           "#FF6692",
           "#B6E880",
           "#FF97FF",
           "#FECB52"
          ],
          "font": {
           "color": "#2a3f5f"
          },
          "hovermode": "closest",
          "hoverlabel": {
           "align": "left"
          },
          "paper_bgcolor": "white",
          "plot_bgcolor": "#E5ECF6",
          "polar": {
           "bgcolor": "#E5ECF6",
           "angularaxis": {
            "gridcolor": "white",
            "linecolor": "white",
            "ticks": ""
           },
           "radialaxis": {
            "gridcolor": "white",
            "linecolor": "white",
            "ticks": ""
           }
          },
          "ternary": {
           "bgcolor": "#E5ECF6",
           "aaxis": {
            "gridcolor": "white",
            "linecolor": "white",
            "ticks": ""
           },
           "baxis": {
            "gridcolor": "white",
            "linecolor": "white",
            "ticks": ""
           },
           "caxis": {
            "gridcolor": "white",
            "linecolor": "white",
            "ticks": ""
           }
          },
          "coloraxis": {
           "colorbar": {
            "outlinewidth": 0,
            "ticks": ""
           }
          },
          "colorscale": {
           "sequential": [
            [
             0.0,
             "#0d0887"
            ],
            [
             0.1111111111111111,
             "#46039f"
            ],
            [
             0.2222222222222222,
             "#7201a8"
            ],
            [
             0.3333333333333333,
             "#9c179e"
            ],
            [
             0.4444444444444444,
             "#bd3786"
            ],
            [
             0.5555555555555556,
             "#d8576b"
            ],
            [
             0.6666666666666666,
             "#ed7953"
            ],
            [
             0.7777777777777778,
             "#fb9f3a"
            ],
            [
             0.8888888888888888,
             "#fdca26"
            ],
            [
             1.0,
             "#f0f921"
            ]
           ],
           "sequentialminus": [
            [
             0.0,
             "#0d0887"
            ],
            [
             0.1111111111111111,
             "#46039f"
            ],
            [
             0.2222222222222222,
             "#7201a8"
            ],
            [
             0.3333333333333333,
             "#9c179e"
            ],
            [
             0.4444444444444444,
             "#bd3786"
            ],
            [
             0.5555555555555556,
             "#d8576b"
            ],
            [
             0.6666666666666666,
             "#ed7953"
            ],
            [
             0.7777777777777778,
             "#fb9f3a"
            ],
            [
             0.8888888888888888,
             "#fdca26"
            ],
            [
             1.0,
             "#f0f921"
            ]
           ],
           "diverging": [
            [
             0,
             "#8e0152"
            ],
            [
             0.1,
             "#c51b7d"
            ],
            [
             0.2,
             "#de77ae"
            ],
            [
             0.3,
             "#f1b6da"
            ],
            [
             0.4,
             "#fde0ef"
            ],
            [
             0.5,
             "#f7f7f7"
            ],
            [
             0.6,
             "#e6f5d0"
            ],
            [
             0.7,
             "#b8e186"
            ],
            [
             0.8,
             "#7fbc41"
            ],
            [
             0.9,
             "#4d9221"
            ],
            [
             1,
             "#276419"
            ]
           ]
          },
          "xaxis": {
           "gridcolor": "white",
           "linecolor": "white",
           "ticks": "",
           "title": {
            "standoff": 15
           },
           "zerolinecolor": "white",
           "automargin": true,
           "zerolinewidth": 2
          },
          "yaxis": {
           "gridcolor": "white",
           "linecolor": "white",
           "ticks": "",
           "title": {
            "standoff": 15
           },
           "zerolinecolor": "white",
           "automargin": true,
           "zerolinewidth": 2
          },
          "scene": {
           "xaxis": {
            "backgroundcolor": "#E5ECF6",
            "gridcolor": "white",
            "linecolor": "white",
            "showbackground": true,
            "ticks": "",
            "zerolinecolor": "white",
            "gridwidth": 2
           },
           "yaxis": {
            "backgroundcolor": "#E5ECF6",
            "gridcolor": "white",
            "linecolor": "white",
            "showbackground": true,
            "ticks": "",
            "zerolinecolor": "white",
            "gridwidth": 2
           },
           "zaxis": {
            "backgroundcolor": "#E5ECF6",
            "gridcolor": "white",
            "linecolor": "white",
            "showbackground": true,
            "ticks": "",
            "zerolinecolor": "white",
            "gridwidth": 2
           }
          },
          "shapedefaults": {
           "line": {
            "color": "#2a3f5f"
           }
          },
          "annotationdefaults": {
           "arrowcolor": "#2a3f5f",
           "arrowhead": 0,
           "arrowwidth": 1
          },
          "geo": {
           "bgcolor": "white",
           "landcolor": "#E5ECF6",
           "subunitcolor": "white",
           "showland": true,
           "showlakes": true,
           "lakecolor": "white"
          },
          "title": {
           "x": 0.05
          },
          "mapbox": {
           "style": "light"
          }
         }
        },
        "xaxis": {
         "anchor": "y",
         "domain": [
          0.0,
          1.0
         ],
         "title": {
          "text": "rating"
         }
        },
        "yaxis": {
         "anchor": "x",
         "domain": [
          0.0,
          1.0
         ],
         "title": {
          "text": "price"
         }
        },
        "legend": {
         "tracegroupgap": 0
        },
        "title": {
         "text": "Interactive Rating vs Price"
        }
       },
       "config": {
        "plotlyServerURL": "https://plot.ly"
       }
      }
     },
     "metadata": {},
     "output_type": "display_data",
     "jetTransient": {
      "display_id": null
     }
    }
   ],
   "execution_count": 32
  }
 ],
 "metadata": {
  "kernelspec": {
   "display_name": "Python 3",
   "language": "python",
   "name": "python3"
  },
  "language_info": {
   "codemirror_mode": {
    "name": "ipython",
    "version": 2
   },
   "file_extension": ".py",
   "mimetype": "text/x-python",
   "name": "python",
   "nbconvert_exporter": "python",
   "pygments_lexer": "ipython2",
   "version": "2.7.6"
  }
 },
 "nbformat": 4,
 "nbformat_minor": 5
}
