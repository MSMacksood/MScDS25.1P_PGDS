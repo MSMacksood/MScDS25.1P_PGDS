{
 "cells": [
  {
   "metadata": {},
   "cell_type": "markdown",
   "source": [
    "# Data Cleaning and Preprocessing Pipeline\n",
    "This notebook implements data cleaning for the scraped books data."
   ],
   "id": "bab293c1809805b9"
  },
  {
   "metadata": {
    "ExecuteTime": {
     "end_time": "2025-09-26T16:45:03.677088Z",
     "start_time": "2025-09-26T16:45:03.670795Z"
    }
   },
   "cell_type": "code",
   "source": [
    "import pandas as pd\n",
    "import numpy as np\n",
    "import re"
   ],
   "id": "bbf7eacf93cc31cd",
   "outputs": [],
   "execution_count": 3
  },
  {
   "metadata": {
    "ExecuteTime": {
     "end_time": "2025-09-26T16:45:03.742268Z",
     "start_time": "2025-09-26T16:45:03.693602Z"
    }
   },
   "cell_type": "code",
   "source": [
    "df = pd.read_csv('../data_collection/books_data.csv')\n",
    "print(f\"Original dataset shape: {df.shape}\")\n",
    "df.head()"
   ],
   "id": "8919a43406748c33",
   "outputs": [
    {
     "name": "stdout",
     "output_type": "stream",
     "text": [
      "Original dataset shape: (1000, 4)\n"
     ]
    },
    {
     "data": {
      "text/plain": [
       "                                   title  price  rating availability\n",
       "0                   A Light in the Attic  51.77       3     In stock\n",
       "1                     Tipping the Velvet  53.74       1     In stock\n",
       "2                             Soumission  50.10       1     In stock\n",
       "3                          Sharp Objects  47.82       4     In stock\n",
       "4  Sapiens: A Brief History of Humankind  54.23       5     In stock"
      ],
      "text/html": [
       "<div>\n",
       "<style scoped>\n",
       "    .dataframe tbody tr th:only-of-type {\n",
       "        vertical-align: middle;\n",
       "    }\n",
       "\n",
       "    .dataframe tbody tr th {\n",
       "        vertical-align: top;\n",
       "    }\n",
       "\n",
       "    .dataframe thead th {\n",
       "        text-align: right;\n",
       "    }\n",
       "</style>\n",
       "<table border=\"1\" class=\"dataframe\">\n",
       "  <thead>\n",
       "    <tr style=\"text-align: right;\">\n",
       "      <th></th>\n",
       "      <th>title</th>\n",
       "      <th>price</th>\n",
       "      <th>rating</th>\n",
       "      <th>availability</th>\n",
       "    </tr>\n",
       "  </thead>\n",
       "  <tbody>\n",
       "    <tr>\n",
       "      <th>0</th>\n",
       "      <td>A Light in the Attic</td>\n",
       "      <td>51.77</td>\n",
       "      <td>3</td>\n",
       "      <td>In stock</td>\n",
       "    </tr>\n",
       "    <tr>\n",
       "      <th>1</th>\n",
       "      <td>Tipping the Velvet</td>\n",
       "      <td>53.74</td>\n",
       "      <td>1</td>\n",
       "      <td>In stock</td>\n",
       "    </tr>\n",
       "    <tr>\n",
       "      <th>2</th>\n",
       "      <td>Soumission</td>\n",
       "      <td>50.10</td>\n",
       "      <td>1</td>\n",
       "      <td>In stock</td>\n",
       "    </tr>\n",
       "    <tr>\n",
       "      <th>3</th>\n",
       "      <td>Sharp Objects</td>\n",
       "      <td>47.82</td>\n",
       "      <td>4</td>\n",
       "      <td>In stock</td>\n",
       "    </tr>\n",
       "    <tr>\n",
       "      <th>4</th>\n",
       "      <td>Sapiens: A Brief History of Humankind</td>\n",
       "      <td>54.23</td>\n",
       "      <td>5</td>\n",
       "      <td>In stock</td>\n",
       "    </tr>\n",
       "  </tbody>\n",
       "</table>\n",
       "</div>"
      ]
     },
     "execution_count": 4,
     "metadata": {},
     "output_type": "execute_result"
    }
   ],
   "execution_count": 4
  },
  {
   "metadata": {
    "ExecuteTime": {
     "end_time": "2025-09-26T16:45:03.844299Z",
     "start_time": "2025-09-26T16:45:03.825205Z"
    }
   },
   "cell_type": "code",
   "source": [
    "print(f\"Number of duplicates: {df.duplicated().sum()}\")\n",
    "df.drop_duplicates(inplace=True)\n",
    "print(f\"Dataset shape after removing duplicates: {df.shape}\")"
   ],
   "id": "e999522f96b151a8",
   "outputs": [
    {
     "name": "stdout",
     "output_type": "stream",
     "text": [
      "Number of duplicates: 0\n",
      "Dataset shape after removing duplicates: (1000, 4)\n"
     ]
    }
   ],
   "execution_count": 5
  },
  {
   "metadata": {
    "ExecuteTime": {
     "end_time": "2025-09-26T16:45:03.904343Z",
     "start_time": "2025-09-26T16:45:03.894850Z"
    }
   },
   "cell_type": "code",
   "source": [
    "print(\"Data types before standardization:\")\n",
    "print(df.dtypes)\n",
    "print(\"\\nColumn names:\")\n",
    "print(df.columns.tolist())"
   ],
   "id": "ac5573ae58a1ef12",
   "outputs": [
    {
     "name": "stdout",
     "output_type": "stream",
     "text": [
      "Data types before standardization:\n",
      "title            object\n",
      "price           float64\n",
      "rating            int64\n",
      "availability     object\n",
      "dtype: object\n",
      "\n",
      "Column names:\n",
      "['title', 'price', 'rating', 'availability']\n"
     ]
    }
   ],
   "execution_count": 6
  },
  {
   "metadata": {
    "ExecuteTime": {
     "end_time": "2025-09-26T16:45:04.003665Z",
     "start_time": "2025-09-26T16:45:03.993762Z"
    }
   },
   "cell_type": "code",
   "source": [
    "for col in df.columns:\n",
    "    if 'price' in col.lower():\n",
    "        df[col] = pd.to_numeric(df[col], errors='coerce')\n",
    "    elif 'rating' in col.lower():\n",
    "        df[col] = pd.to_numeric(df[col], errors='coerce')\n",
    "    elif 'date' in col.lower() or 'published' in col.lower():\n",
    "        df[col] = pd.to_datetime(df[col], errors='coerce')\n",
    "\n",
    "print(\"Data types after standardization:\")\n",
    "print(df.dtypes)"
   ],
   "id": "850d4659f1fbc620",
   "outputs": [
    {
     "name": "stdout",
     "output_type": "stream",
     "text": [
      "Data types after standardization:\n",
      "title            object\n",
      "price           float64\n",
      "rating            int64\n",
      "availability     object\n",
      "dtype: object\n"
     ]
    }
   ],
   "execution_count": 7
  },
  {
   "metadata": {
    "ExecuteTime": {
     "end_time": "2025-09-26T16:45:04.036888Z",
     "start_time": "2025-09-26T16:45:04.025894Z"
    }
   },
   "cell_type": "code",
   "source": [
    "print(\"Missing values per column:\")\n",
    "missing_values = df.isnull().sum()\n",
    "print(missing_values[missing_values > 0])"
   ],
   "id": "e5c92800be3193b",
   "outputs": [
    {
     "name": "stdout",
     "output_type": "stream",
     "text": [
      "Missing values per column:\n",
      "Series([], dtype: int64)\n"
     ]
    }
   ],
   "execution_count": 8
  },
  {
   "metadata": {
    "ExecuteTime": {
     "end_time": "2025-09-26T16:45:04.820458Z",
     "start_time": "2025-09-26T16:45:04.800518Z"
    }
   },
   "cell_type": "code",
   "source": [
    "for col in df.columns:\n",
    "    if df[col].dtype in ['float64', 'int64']:\n",
    "        df[col].fillna(df[col].median(), inplace=True)\n",
    "    elif df[col].dtype == 'object':\n",
    "        df[col].fillna(df[col].mode()[0] if not df[col].mode().empty else 'Unknown', inplace=True)\n",
    "\n",
    "print(\"Missing values after imputation:\")\n",
    "print(df.isnull().sum().sum())"
   ],
   "id": "5a195bb1630c14bf",
   "outputs": [
    {
     "name": "stdout",
     "output_type": "stream",
     "text": [
      "Missing values after imputation:\n",
      "0\n"
     ]
    },
    {
     "name": "stderr",
     "output_type": "stream",
     "text": [
      "C:\\Users\\MSM\\AppData\\Local\\Temp\\ipykernel_35232\\2564886421.py:5: FutureWarning: A value is trying to be set on a copy of a DataFrame or Series through chained assignment using an inplace method.\n",
      "The behavior will change in pandas 3.0. This inplace method will never work because the intermediate object on which we are setting values always behaves as a copy.\n",
      "\n",
      "For example, when doing 'df[col].method(value, inplace=True)', try using 'df.method({col: value}, inplace=True)' or df[col] = df[col].method(value) instead, to perform the operation inplace on the original object.\n",
      "\n",
      "\n",
      "  df[col].fillna(df[col].mode()[0] if not df[col].mode().empty else 'Unknown', inplace=True)\n",
      "C:\\Users\\MSM\\AppData\\Local\\Temp\\ipykernel_35232\\2564886421.py:3: FutureWarning: A value is trying to be set on a copy of a DataFrame or Series through chained assignment using an inplace method.\n",
      "The behavior will change in pandas 3.0. This inplace method will never work because the intermediate object on which we are setting values always behaves as a copy.\n",
      "\n",
      "For example, when doing 'df[col].method(value, inplace=True)', try using 'df.method({col: value}, inplace=True)' or df[col] = df[col].method(value) instead, to perform the operation inplace on the original object.\n",
      "\n",
      "\n",
      "  df[col].fillna(df[col].median(), inplace=True)\n"
     ]
    }
   ],
   "execution_count": 9
  },
  {
   "metadata": {
    "ExecuteTime": {
     "end_time": "2025-09-26T16:45:05.322937Z",
     "start_time": "2025-09-26T16:45:05.300987Z"
    }
   },
   "cell_type": "code",
   "source": [
    "text_columns = df.select_dtypes(include=['object']).columns\n",
    "\n",
    "for col in text_columns:\n",
    "    if df[col].dtype == 'object':\n",
    "        df[col] = df[col].astype(str)\n",
    "        df[col] = df[col].str.lower()\n",
    "        df[col] = df[col].str.replace('[^a-zA-Z0-9\\s]', '', regex=True)\n",
    "        df[col] = df[col].str.strip()\n",
    "\n",
    "print(\"Text preprocessing completed\")"
   ],
   "id": "9954879120db4628",
   "outputs": [
    {
     "name": "stdout",
     "output_type": "stream",
     "text": [
      "Text preprocessing completed\n"
     ]
    },
    {
     "name": "stderr",
     "output_type": "stream",
     "text": [
      "<>:7: SyntaxWarning: invalid escape sequence '\\s'\n",
      "<>:7: SyntaxWarning: invalid escape sequence '\\s'\n",
      "C:\\Users\\MSM\\AppData\\Local\\Temp\\ipykernel_35232\\2817073211.py:7: SyntaxWarning: invalid escape sequence '\\s'\n",
      "  df[col] = df[col].str.replace('[^a-zA-Z0-9\\s]', '', regex=True)\n"
     ]
    }
   ],
   "execution_count": 10
  },
  {
   "metadata": {
    "ExecuteTime": {
     "end_time": "2025-09-26T16:45:05.600312Z",
     "start_time": "2025-09-26T16:45:05.589363Z"
    }
   },
   "cell_type": "code",
   "source": [
    "validation_issues = []\n",
    "\n",
    "for col in df.columns:\n",
    "    if 'price' in col.lower():\n",
    "        negative_prices = df[df[col] < 0]\n",
    "        if len(negative_prices) > 0:\n",
    "            validation_issues.append(f\"Found {len(negative_prices)} negative prices in {col}\")\n",
    "            df[col] = df[col].abs()\n",
    "\n",
    "    elif 'rating' in col.lower():\n",
    "        invalid_ratings = df[(df[col] < 1) | (df[col] > 5)]\n",
    "        if len(invalid_ratings) > 0:\n",
    "            validation_issues.append(f\"Found {len(invalid_ratings)} invalid ratings in {col}\")\n",
    "            df[col] = df[col].clip(1, 5)\n",
    "\n",
    "if validation_issues:\n",
    "    print(\"Validation issues found and corrected:\")\n",
    "    for issue in validation_issues:\n",
    "        print(f\"- {issue}\")\n",
    "else:\n",
    "    print(\"No validation issues found\")"
   ],
   "id": "3b3f946435806e4c",
   "outputs": [
    {
     "name": "stdout",
     "output_type": "stream",
     "text": [
      "No validation issues found\n"
     ]
    }
   ],
   "execution_count": 11
  },
  {
   "metadata": {
    "ExecuteTime": {
     "end_time": "2025-09-26T16:45:05.693893Z",
     "start_time": "2025-09-26T16:45:05.676483Z"
    }
   },
   "cell_type": "code",
   "source": [
    "print(\"Final dataset summary:\")\n",
    "print(f\"Shape: {df.shape}\")\n",
    "print(f\"Data types:\\n{df.dtypes}\")\n",
    "print(f\"Missing values: {df.isnull().sum().sum()}\")\n",
    "df.head()\n"
   ],
   "id": "3eec6584caf1ab06",
   "outputs": [
    {
     "name": "stdout",
     "output_type": "stream",
     "text": [
      "Final dataset summary:\n",
      "Shape: (1000, 4)\n",
      "Data types:\n",
      "title            object\n",
      "price           float64\n",
      "rating            int64\n",
      "availability     object\n",
      "dtype: object\n",
      "Missing values: 0\n"
     ]
    },
    {
     "data": {
      "text/plain": [
       "                                  title  price  rating availability\n",
       "0                  a light in the attic  51.77       3     in stock\n",
       "1                    tipping the velvet  53.74       1     in stock\n",
       "2                            soumission  50.10       1     in stock\n",
       "3                         sharp objects  47.82       4     in stock\n",
       "4  sapiens a brief history of humankind  54.23       5     in stock"
      ],
      "text/html": [
       "<div>\n",
       "<style scoped>\n",
       "    .dataframe tbody tr th:only-of-type {\n",
       "        vertical-align: middle;\n",
       "    }\n",
       "\n",
       "    .dataframe tbody tr th {\n",
       "        vertical-align: top;\n",
       "    }\n",
       "\n",
       "    .dataframe thead th {\n",
       "        text-align: right;\n",
       "    }\n",
       "</style>\n",
       "<table border=\"1\" class=\"dataframe\">\n",
       "  <thead>\n",
       "    <tr style=\"text-align: right;\">\n",
       "      <th></th>\n",
       "      <th>title</th>\n",
       "      <th>price</th>\n",
       "      <th>rating</th>\n",
       "      <th>availability</th>\n",
       "    </tr>\n",
       "  </thead>\n",
       "  <tbody>\n",
       "    <tr>\n",
       "      <th>0</th>\n",
       "      <td>a light in the attic</td>\n",
       "      <td>51.77</td>\n",
       "      <td>3</td>\n",
       "      <td>in stock</td>\n",
       "    </tr>\n",
       "    <tr>\n",
       "      <th>1</th>\n",
       "      <td>tipping the velvet</td>\n",
       "      <td>53.74</td>\n",
       "      <td>1</td>\n",
       "      <td>in stock</td>\n",
       "    </tr>\n",
       "    <tr>\n",
       "      <th>2</th>\n",
       "      <td>soumission</td>\n",
       "      <td>50.10</td>\n",
       "      <td>1</td>\n",
       "      <td>in stock</td>\n",
       "    </tr>\n",
       "    <tr>\n",
       "      <th>3</th>\n",
       "      <td>sharp objects</td>\n",
       "      <td>47.82</td>\n",
       "      <td>4</td>\n",
       "      <td>in stock</td>\n",
       "    </tr>\n",
       "    <tr>\n",
       "      <th>4</th>\n",
       "      <td>sapiens a brief history of humankind</td>\n",
       "      <td>54.23</td>\n",
       "      <td>5</td>\n",
       "      <td>in stock</td>\n",
       "    </tr>\n",
       "  </tbody>\n",
       "</table>\n",
       "</div>"
      ]
     },
     "execution_count": 12,
     "metadata": {},
     "output_type": "execute_result"
    }
   ],
   "execution_count": 12
  }
 ],
 "metadata": {
  "kernelspec": {
   "display_name": "Python 3",
   "language": "python",
   "name": "python3"
  },
  "language_info": {
   "codemirror_mode": {
    "name": "ipython",
    "version": 2
   },
   "file_extension": ".py",
   "mimetype": "text/x-python",
   "name": "python",
   "nbconvert_exporter": "python",
   "pygments_lexer": "ipython2",
   "version": "2.7.6"
  }
 },
 "nbformat": 4,
 "nbformat_minor": 5
}
