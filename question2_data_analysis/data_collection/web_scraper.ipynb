{
 "cells": [
  {
   "metadata": {},
   "cell_type": "markdown",
   "source": "# Web Scraper",
   "id": "316b8fb719a5666f"
  },
  {
   "metadata": {
    "ExecuteTime": {
     "end_time": "2025-09-26T16:38:04.847948Z",
     "start_time": "2025-09-26T16:38:04.826628Z"
    }
   },
   "cell_type": "code",
   "source": [
    "# Import necessary libraries for web scraping and data processing\n",
    "import re  # Regular expressions for pattern matching in text\n",
    "import requests  # HTTP library for making web requests\n",
    "from bs4 import BeautifulSoup  # HTML parsing library\n",
    "import pandas as pd  # Data manipulation and analysis library\n",
    "\n",
    "def scrape_books(base_url):\n",
    "    \"\"\"\n",
    "    Scrapes book information from all pages of a book catalog website.\n",
    "    \n",
    "    Args:\n",
    "        base_url (str): The base URL of the website to scrape\n",
    "        \n",
    "    Returns:\n",
    "        pd.DataFrame: A DataFrame containing book information with columns:\n",
    "                     title, price, rating, availability\n",
    "    \"\"\"\n",
    "    books = []  # List to store all scraped book data\n",
    "    page = 1    # Start with the first page\n",
    "\n",
    "    # Loop through all pages until no more books are found\n",
    "    while True:\n",
    "        # Construct URL for current page\n",
    "        if page == 1:\n",
    "            url = base_url  # First page uses base URL\n",
    "        else:\n",
    "            url = f\"{base_url}/catalogue/page-{page}.html\"  # Subsequent pages have specific format\n",
    "\n",
    "        # Send HTTP GET request to fetch the page\n",
    "        response = requests.get(url)\n",
    "        \n",
    "        # Check if page exists (status code 200 means success)\n",
    "        if response.status_code != 200:\n",
    "            break  # Exit loop if page doesn't exist\n",
    "\n",
    "        # Parse HTML content using BeautifulSoup\n",
    "        soup = BeautifulSoup(response.content, 'html.parser')\n",
    "        \n",
    "        # Find all book containers on the current page\n",
    "        book_containers = soup.find_all('article', class_='product_pod')\n",
    "\n",
    "        # If no books found on this page, we've reached the end\n",
    "        if not book_containers:\n",
    "            break\n",
    "\n",
    "        # Process each book on the current page\n",
    "        for book in book_containers:\n",
    "            # Extract book title from the 'title' attribute of the anchor tag\n",
    "            title = book.h3.a['title']\n",
    "\n",
    "            # Extract and convert price with robust cleaning\n",
    "            price_text = book.find('p', class_='price_color').text\n",
    "            # Use regex to extract only digits and decimal point from price string\n",
    "            price_match = re.search(r'(\\d+\\.?\\d*)', price_text)\n",
    "            if price_match:\n",
    "                try:\n",
    "                    # Convert extracted price string to float\n",
    "                    price = float(price_match.group(1))\n",
    "                except ValueError:\n",
    "                    # Set default price if conversion fails\n",
    "                    price = 0.0  \n",
    "            else:\n",
    "                # Set default price if no match found\n",
    "                price = 0.0\n",
    "\n",
    "            # Map star rating classes to numeric values for easier analysis\n",
    "            rating_map = {'One': 1, 'Two': 2, 'Three': 3, 'Four': 4, 'Five': 5}\n",
    "            \n",
    "            # Find the rating element and extract rating class\n",
    "            rating_element = book.find('p', class_='star-rating')\n",
    "            if rating_element:\n",
    "                # Get CSS classes from the rating element\n",
    "                rating_class = rating_element.get('class', [])\n",
    "                # Convert rating class to numeric value (second class contains the rating)\n",
    "                rating = rating_map.get(rating_class[1] if len(rating_class) > 1 else '', 0)\n",
    "            else:\n",
    "                # Default rating if element not found\n",
    "                rating = 0\n",
    "\n",
    "            # Extract availability status text\n",
    "            availability_element = book.find('p', class_='instock availability')\n",
    "            # Clean up whitespace, set to 'Unknown' if element not found\n",
    "            availability = availability_element.text.strip() if availability_element else 'Unknown'\n",
    "\n",
    "            # Add all extracted book data to the list\n",
    "            books.append({\n",
    "                'title': title,\n",
    "                'price': price,\n",
    "                'rating': rating,\n",
    "                'availability': availability\n",
    "            })\n",
    "\n",
    "        # Move to the next page\n",
    "        page += 1\n",
    "\n",
    "    # Convert list of dictionaries to pandas DataFrame and return\n",
    "    return pd.DataFrame(books)\n"
   ],
   "id": "93a96e98a6208cb3",
   "outputs": [],
   "execution_count": 3
  },
  {
   "metadata": {},
   "cell_type": "markdown",
   "source": "# Run the Scrapper",
   "id": "9758cd9d9f3179cb"
  },
  {
   "metadata": {
    "ExecuteTime": {
     "end_time": "2025-09-26T16:38:53.890187Z",
     "start_time": "2025-09-26T16:38:04.872863Z"
    }
   },
   "cell_type": "code",
   "source": [
    "\n",
    "# Run the scraper\n",
    "df_books = scrape_books('http://books.toscrape.com')\n",
    "df_books.to_csv('books_data.csv', index=False)\n",
    "print(\"Scraping complete. Data saved to books_data.csv\")\n",
    "print(f\"Scraped {len(df_books)} books\")"
   ],
   "id": "5a37c10c74abbaf3",
   "outputs": [
    {
     "name": "stdout",
     "output_type": "stream",
     "text": [
      "Scraping complete. Data saved to books_data.csv\n",
      "Scraped 1000 books\n"
     ]
    }
   ],
   "execution_count": 4
  }
 ],
 "metadata": {
  "kernelspec": {
   "display_name": "Python 3",
   "language": "python",
   "name": "python3"
  },
  "language_info": {
   "codemirror_mode": {
    "name": "ipython",
    "version": 2
   },
   "file_extension": ".py",
   "mimetype": "text/x-python",
   "name": "python",
   "nbconvert_exporter": "python",
   "pygments_lexer": "ipython2",
   "version": "2.7.6"
  }
 },
 "nbformat": 4,
 "nbformat_minor": 5
}
