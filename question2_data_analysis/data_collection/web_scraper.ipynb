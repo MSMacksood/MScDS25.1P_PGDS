{
 "cells": [
  {
   "metadata": {},
   "cell_type": "markdown",
   "source": "# Web Scraper",
   "id": "316b8fb719a5666f"
  },
  {
   "metadata": {
    "ExecuteTime": {
     "end_time": "2025-09-26T16:28:47.266457Z",
     "start_time": "2025-09-26T16:28:47.251878Z"
    }
   },
   "cell_type": "code",
   "source": [
    "import re\n",
    "import requests\n",
    "from bs4 import BeautifulSoup\n",
    "import pandas as pd\n",
    "\n",
    "def scrape_books(base_url):\n",
    "    books = []\n",
    "    page = 1\n",
    "\n",
    "    while True:\n",
    "        if page == 1:\n",
    "            url = base_url\n",
    "        else:\n",
    "            url = f\"{base_url}/catalogue/page-{page}.html\"\n",
    "\n",
    "        response = requests.get(url)\n",
    "        if response.status_code != 200:\n",
    "            break\n",
    "\n",
    "        soup = BeautifulSoup(response.content, 'html.parser')\n",
    "        book_containers = soup.find_all('article', class_='product_pod')\n",
    "\n",
    "        if not book_containers:\n",
    "            break\n",
    "\n",
    "        for book in book_containers:\n",
    "            # Extract title\n",
    "            title = book.h3.a['title']\n",
    "\n",
    "            # Extract and convert price with robust cleaning\n",
    "            price_text = book.find('p', class_='price_color').text\n",
    "            # Use regex to extract only digits and decimal point\n",
    "            price_match = re.search(r'(\\d+\\.?\\d*)', price_text)\n",
    "            if price_match:\n",
    "                try:\n",
    "                    price = float(price_match.group(1))\n",
    "                except ValueError:\n",
    "                    price = 0.0  # Default value if conversion fails\n",
    "            else:\n",
    "                price = 0.0\n",
    "\n",
    "            # Map star rating classes to numeric values\n",
    "            rating_map = {'One': 1, 'Two': 2, 'Three': 3, 'Four': 4, 'Five': 5}\n",
    "            rating_element = book.find('p', class_='star-rating')\n",
    "            if rating_element:\n",
    "                rating_class = rating_element.get('class', [])\n",
    "                rating = rating_map.get(rating_class[1] if len(rating_class) > 1 else '', 0)\n",
    "            else:\n",
    "                rating = 0\n",
    "\n",
    "            # Extract availability\n",
    "            availability_element = book.find('p', class_='instock availability')\n",
    "            availability = availability_element.text.strip() if availability_element else 'Unknown'\n",
    "\n",
    "            books.append({\n",
    "                'title': title,\n",
    "                'price': price,\n",
    "                'rating': rating,\n",
    "                'availability': availability\n",
    "            })\n",
    "\n",
    "        page += 1\n",
    "\n",
    "    return pd.DataFrame(books)\n"
   ],
   "id": "93a96e98a6208cb3",
   "outputs": [],
   "execution_count": 3
  },
  {
   "metadata": {},
   "cell_type": "markdown",
   "source": "# Run the Scrapper",
   "id": "9758cd9d9f3179cb"
  },
  {
   "metadata": {
    "ExecuteTime": {
     "end_time": "2025-09-26T16:29:35.220785Z",
     "start_time": "2025-09-26T16:28:47.285280Z"
    }
   },
   "cell_type": "code",
   "source": [
    "\n",
    "# Run the scraper\n",
    "df_books = scrape_books('http://books.toscrape.com')\n",
    "df_books.to_csv('books_data.csv', index=False)\n",
    "print(\"Scraping complete. Data saved to books_data.csv\")\n",
    "print(f\"Scraped {len(df_books)} books\")"
   ],
   "id": "5a37c10c74abbaf3",
   "outputs": [
    {
     "name": "stdout",
     "output_type": "stream",
     "text": [
      "Scraping complete. Data saved to books_data.csv\n",
      "Scraped 1000 books\n"
     ]
    }
   ],
   "execution_count": 4
  }
 ],
 "metadata": {
  "kernelspec": {
   "display_name": "Python 3",
   "language": "python",
   "name": "python3"
  },
  "language_info": {
   "codemirror_mode": {
    "name": "ipython",
    "version": 2
   },
   "file_extension": ".py",
   "mimetype": "text/x-python",
   "name": "python",
   "nbconvert_exporter": "python",
   "pygments_lexer": "ipython2",
   "version": "2.7.6"
  }
 },
 "nbformat": 4,
 "nbformat_minor": 5
}
