{
 "cells": [
  {
   "metadata": {},
   "cell_type": "markdown",
   "source": [
    "# Advanced Statistical Analysis\n",
    "\n",
    "This notebook performs statistical analysis on the cleaned data from data_processor.ipynb to uncover meaningful insights through various statistical methods."
   ],
   "id": "715968b2d2000c49"
  },
  {
   "metadata": {
    "ExecuteTime": {
     "end_time": "2025-09-26T17:04:03.233061Z",
     "start_time": "2025-09-26T17:04:03.222222Z"
    }
   },
   "cell_type": "code",
   "source": [
    "import pandas as pd\n",
    "import numpy as np\n",
    "import matplotlib.pyplot as plt\n",
    "import seaborn as sns\n",
    "from scipy import stats\n",
    "import warnings\n",
    "\n",
    "warnings.filterwarnings('ignore')"
   ],
   "id": "363d45c8b730d846",
   "outputs": [],
   "execution_count": 28
  },
  {
   "metadata": {
    "ExecuteTime": {
     "end_time": "2025-09-26T17:04:03.293043Z",
     "start_time": "2025-09-26T17:04:03.263753Z"
    }
   },
   "cell_type": "code",
   "source": [
    "df = pd.read_csv('../data_processing/cleaned_data.csv')\n",
    "df"
   ],
   "id": "109bde515b0f0b9a",
   "outputs": [
    {
     "data": {
      "text/plain": [
       "                                                 title  price  rating  \\\n",
       "0                                 a light in the attic  51.77       3   \n",
       "1                                   tipping the velvet  53.74       1   \n",
       "2                                           soumission  50.10       1   \n",
       "3                                        sharp objects  47.82       4   \n",
       "4                 sapiens a brief history of humankind  54.23       5   \n",
       "..                                                 ...    ...     ...   \n",
       "995  alice in wonderland alices adventures in wonde...  55.53       1   \n",
       "996           ajin demihuman volume 1 ajin demihuman 1  57.06       4   \n",
       "997      a spys devotion the regency spies of london 1  16.97       5   \n",
       "998                    1st to die womens murder club 1  53.98       1   \n",
       "999                  1000 places to see before you die  26.08       5   \n",
       "\n",
       "    availability  \n",
       "0       in stock  \n",
       "1       in stock  \n",
       "2       in stock  \n",
       "3       in stock  \n",
       "4       in stock  \n",
       "..           ...  \n",
       "995     in stock  \n",
       "996     in stock  \n",
       "997     in stock  \n",
       "998     in stock  \n",
       "999     in stock  \n",
       "\n",
       "[1000 rows x 4 columns]"
      ],
      "text/html": [
       "<div>\n",
       "<style scoped>\n",
       "    .dataframe tbody tr th:only-of-type {\n",
       "        vertical-align: middle;\n",
       "    }\n",
       "\n",
       "    .dataframe tbody tr th {\n",
       "        vertical-align: top;\n",
       "    }\n",
       "\n",
       "    .dataframe thead th {\n",
       "        text-align: right;\n",
       "    }\n",
       "</style>\n",
       "<table border=\"1\" class=\"dataframe\">\n",
       "  <thead>\n",
       "    <tr style=\"text-align: right;\">\n",
       "      <th></th>\n",
       "      <th>title</th>\n",
       "      <th>price</th>\n",
       "      <th>rating</th>\n",
       "      <th>availability</th>\n",
       "    </tr>\n",
       "  </thead>\n",
       "  <tbody>\n",
       "    <tr>\n",
       "      <th>0</th>\n",
       "      <td>a light in the attic</td>\n",
       "      <td>51.77</td>\n",
       "      <td>3</td>\n",
       "      <td>in stock</td>\n",
       "    </tr>\n",
       "    <tr>\n",
       "      <th>1</th>\n",
       "      <td>tipping the velvet</td>\n",
       "      <td>53.74</td>\n",
       "      <td>1</td>\n",
       "      <td>in stock</td>\n",
       "    </tr>\n",
       "    <tr>\n",
       "      <th>2</th>\n",
       "      <td>soumission</td>\n",
       "      <td>50.10</td>\n",
       "      <td>1</td>\n",
       "      <td>in stock</td>\n",
       "    </tr>\n",
       "    <tr>\n",
       "      <th>3</th>\n",
       "      <td>sharp objects</td>\n",
       "      <td>47.82</td>\n",
       "      <td>4</td>\n",
       "      <td>in stock</td>\n",
       "    </tr>\n",
       "    <tr>\n",
       "      <th>4</th>\n",
       "      <td>sapiens a brief history of humankind</td>\n",
       "      <td>54.23</td>\n",
       "      <td>5</td>\n",
       "      <td>in stock</td>\n",
       "    </tr>\n",
       "    <tr>\n",
       "      <th>...</th>\n",
       "      <td>...</td>\n",
       "      <td>...</td>\n",
       "      <td>...</td>\n",
       "      <td>...</td>\n",
       "    </tr>\n",
       "    <tr>\n",
       "      <th>995</th>\n",
       "      <td>alice in wonderland alices adventures in wonde...</td>\n",
       "      <td>55.53</td>\n",
       "      <td>1</td>\n",
       "      <td>in stock</td>\n",
       "    </tr>\n",
       "    <tr>\n",
       "      <th>996</th>\n",
       "      <td>ajin demihuman volume 1 ajin demihuman 1</td>\n",
       "      <td>57.06</td>\n",
       "      <td>4</td>\n",
       "      <td>in stock</td>\n",
       "    </tr>\n",
       "    <tr>\n",
       "      <th>997</th>\n",
       "      <td>a spys devotion the regency spies of london 1</td>\n",
       "      <td>16.97</td>\n",
       "      <td>5</td>\n",
       "      <td>in stock</td>\n",
       "    </tr>\n",
       "    <tr>\n",
       "      <th>998</th>\n",
       "      <td>1st to die womens murder club 1</td>\n",
       "      <td>53.98</td>\n",
       "      <td>1</td>\n",
       "      <td>in stock</td>\n",
       "    </tr>\n",
       "    <tr>\n",
       "      <th>999</th>\n",
       "      <td>1000 places to see before you die</td>\n",
       "      <td>26.08</td>\n",
       "      <td>5</td>\n",
       "      <td>in stock</td>\n",
       "    </tr>\n",
       "  </tbody>\n",
       "</table>\n",
       "<p>1000 rows × 4 columns</p>\n",
       "</div>"
      ]
     },
     "execution_count": 29,
     "metadata": {},
     "output_type": "execute_result"
    }
   ],
   "execution_count": 29
  },
  {
   "metadata": {},
   "cell_type": "markdown",
   "source": "## Descriptive Statistics Overview",
   "id": "b8bca5fc4583bb1a"
  },
  {
   "metadata": {
    "ExecuteTime": {
     "end_time": "2025-09-26T17:04:03.406454Z",
     "start_time": "2025-09-26T17:04:03.362825Z"
    }
   },
   "cell_type": "code",
   "source": [
    "numerical_cols = df.select_dtypes(include=[np.number]).columns\n",
    "df[numerical_cols].describe()"
   ],
   "id": "64770ab45ee78df6",
   "outputs": [
    {
     "data": {
      "text/plain": [
       "            price       rating\n",
       "count  1000.00000  1000.000000\n",
       "mean     35.07035     2.923000\n",
       "std      14.44669     1.434967\n",
       "min      10.00000     1.000000\n",
       "25%      22.10750     2.000000\n",
       "50%      35.98000     3.000000\n",
       "75%      47.45750     4.000000\n",
       "max      59.99000     5.000000"
      ],
      "text/html": [
       "<div>\n",
       "<style scoped>\n",
       "    .dataframe tbody tr th:only-of-type {\n",
       "        vertical-align: middle;\n",
       "    }\n",
       "\n",
       "    .dataframe tbody tr th {\n",
       "        vertical-align: top;\n",
       "    }\n",
       "\n",
       "    .dataframe thead th {\n",
       "        text-align: right;\n",
       "    }\n",
       "</style>\n",
       "<table border=\"1\" class=\"dataframe\">\n",
       "  <thead>\n",
       "    <tr style=\"text-align: right;\">\n",
       "      <th></th>\n",
       "      <th>price</th>\n",
       "      <th>rating</th>\n",
       "    </tr>\n",
       "  </thead>\n",
       "  <tbody>\n",
       "    <tr>\n",
       "      <th>count</th>\n",
       "      <td>1000.00000</td>\n",
       "      <td>1000.000000</td>\n",
       "    </tr>\n",
       "    <tr>\n",
       "      <th>mean</th>\n",
       "      <td>35.07035</td>\n",
       "      <td>2.923000</td>\n",
       "    </tr>\n",
       "    <tr>\n",
       "      <th>std</th>\n",
       "      <td>14.44669</td>\n",
       "      <td>1.434967</td>\n",
       "    </tr>\n",
       "    <tr>\n",
       "      <th>min</th>\n",
       "      <td>10.00000</td>\n",
       "      <td>1.000000</td>\n",
       "    </tr>\n",
       "    <tr>\n",
       "      <th>25%</th>\n",
       "      <td>22.10750</td>\n",
       "      <td>2.000000</td>\n",
       "    </tr>\n",
       "    <tr>\n",
       "      <th>50%</th>\n",
       "      <td>35.98000</td>\n",
       "      <td>3.000000</td>\n",
       "    </tr>\n",
       "    <tr>\n",
       "      <th>75%</th>\n",
       "      <td>47.45750</td>\n",
       "      <td>4.000000</td>\n",
       "    </tr>\n",
       "    <tr>\n",
       "      <th>max</th>\n",
       "      <td>59.99000</td>\n",
       "      <td>5.000000</td>\n",
       "    </tr>\n",
       "  </tbody>\n",
       "</table>\n",
       "</div>"
      ]
     },
     "execution_count": 30,
     "metadata": {},
     "output_type": "execute_result"
    }
   ],
   "execution_count": 30
  },
  {
   "metadata": {},
   "cell_type": "markdown",
   "source": "## Price Distribution Analysis",
   "id": "f8d1b4bfa1f23949"
  },
  {
   "metadata": {
    "ExecuteTime": {
     "end_time": "2025-09-26T17:04:04.374240Z",
     "start_time": "2025-09-26T17:04:03.597906Z"
    }
   },
   "cell_type": "code",
   "source": [
    "plt.figure(figsize=(15, 5))\n",
    "\n",
    "plt.subplot(1, 3, 1)\n",
    "plt.hist(df['price'], bins=30, alpha=0.7, color='skyblue', edgecolor='black')\n",
    "plt.title('Price Distribution')\n",
    "plt.xlabel('Price')\n",
    "plt.ylabel('Frequency')\n",
    "\n",
    "plt.subplot(1, 3, 2)\n",
    "plt.boxplot(df['price'])\n",
    "plt.title('Price Box Plot')\n",
    "plt.ylabel('Price')\n",
    "\n",
    "plt.subplot(1, 3, 3)\n",
    "stats.probplot(df['price'], dist=\"norm\", plot=plt)\n",
    "plt.title('Price Q-Q Plot')\n",
    "\n",
    "plt.tight_layout()\n",
    "plt.show()"
   ],
   "id": "679990cf858c69bf",
   "outputs": [
    {
     "data": {
      "text/plain": [
       "<Figure size 1500x500 with 3 Axes>"
      ],
      "image/png": "[encoded data removed]"
     },
     "metadata": {},
     "output_type": "display_data",
     "jetTransient": {
      "display_id": null
     }
    }
   ],
   "execution_count": 31
  },
  {
   "metadata": {
    "ExecuteTime": {
     "end_time": "2025-09-26T17:04:04.568990Z",
     "start_time": "2025-09-26T17:04:04.558777Z"
    }
   },
   "cell_type": "code",
   "source": [
    "price_stats = {\n",
    "    'Mean': df['price'].mean(),\n",
    "    'Median': df['price'].median(),\n",
    "    'Standard Deviation': df['price'].std(),\n",
    "    'Skewness': df['price'].skew(),\n",
    "    'Kurtosis': df['price'].kurtosis()\n",
    "}\n",
    "\n",
    "for stat, value in price_stats.items():\n",
    "    print(f\"{stat}: {value:.3f}\")"
   ],
   "id": "3aaf171abc446e98",
   "outputs": [
    {
     "name": "stdout",
     "output_type": "stream",
     "text": [
      "Mean: 35.070\n",
      "Median: 35.980\n",
      "Standard Deviation: 14.447\n",
      "Skewness: -0.038\n",
      "Kurtosis: -1.210\n"
     ]
    }
   ],
   "execution_count": 32
  },
  {
   "metadata": {},
   "cell_type": "markdown",
   "source": "## Correlation Analysis",
   "id": "f312986d980af268"
  },
  {
   "metadata": {
    "ExecuteTime": {
     "end_time": "2025-09-26T17:04:04.810359Z",
     "start_time": "2025-09-26T17:04:04.638909Z"
    }
   },
   "cell_type": "code",
   "source": [
    "# Fix: Filter only numeric columns for correlation analysis\n",
    "correlation_cols = ['price', 'rating']  # Remove 'availability' as it's categorical\n",
    "available_cols = [col for col in correlation_cols if col in df.columns and df[col].dtype in ['int64', 'float64']]\n",
    "\n",
    "# Alternative: If you want to include availability, convert it to numeric first\n",
    "if 'availability' in df.columns:\n",
    "    # Create a numeric version of availability\n",
    "    df['availability_numeric'] = df['availability'].apply(\n",
    "        lambda x: 1 if 'in stock' in str(x).lower() else 0\n",
    "    )\n",
    "    # Add it to correlation analysis\n",
    "    correlation_cols.append('availability_numeric')\n",
    "    available_cols = [col for col in correlation_cols if col in df.columns and df[col].dtype in ['int64', 'float64']]\n",
    "\n",
    "correlation_matrix = df[available_cols].corr()\n",
    "\n",
    "plt.figure(figsize=(8, 6))\n",
    "sns.heatmap(correlation_matrix, annot=True, cmap='coolwarm', center=0,\n",
    "            square=True, fmt='.3f')\n",
    "plt.title('Correlation Matrix')\n",
    "plt.show()\n",
    "\n",
    "correlation_matrix"
   ],
   "id": "e8ddc0dcb0cf9294",
   "outputs": [
    {
     "data": {
      "text/plain": [
       "<Figure size 800x600 with 2 Axes>"
      ],
      "image/png": "[encoded data removed]"
     },
     "metadata": {},
     "output_type": "display_data",
     "jetTransient": {
      "display_id": null
     }
    },
    {
     "data": {
      "text/plain": [
       "                         price    rating  availability_numeric\n",
       "price                 1.000000  0.028166                   NaN\n",
       "rating                0.028166  1.000000                   NaN\n",
       "availability_numeric       NaN       NaN                   NaN"
      ],
      "text/html": [
       "<div>\n",
       "<style scoped>\n",
       "    .dataframe tbody tr th:only-of-type {\n",
       "        vertical-align: middle;\n",
       "    }\n",
       "\n",
       "    .dataframe tbody tr th {\n",
       "        vertical-align: top;\n",
       "    }\n",
       "\n",
       "    .dataframe thead th {\n",
       "        text-align: right;\n",
       "    }\n",
       "</style>\n",
       "<table border=\"1\" class=\"dataframe\">\n",
       "  <thead>\n",
       "    <tr style=\"text-align: right;\">\n",
       "      <th></th>\n",
       "      <th>price</th>\n",
       "      <th>rating</th>\n",
       "      <th>availability_numeric</th>\n",
       "    </tr>\n",
       "  </thead>\n",
       "  <tbody>\n",
       "    <tr>\n",
       "      <th>price</th>\n",
       "      <td>1.000000</td>\n",
       "      <td>0.028166</td>\n",
       "      <td>NaN</td>\n",
       "    </tr>\n",
       "    <tr>\n",
       "      <th>rating</th>\n",
       "      <td>0.028166</td>\n",
       "      <td>1.000000</td>\n",
       "      <td>NaN</td>\n",
       "    </tr>\n",
       "    <tr>\n",
       "      <th>availability_numeric</th>\n",
       "      <td>NaN</td>\n",
       "      <td>NaN</td>\n",
       "      <td>NaN</td>\n",
       "    </tr>\n",
       "  </tbody>\n",
       "</table>\n",
       "</div>"
      ]
     },
     "execution_count": 33,
     "metadata": {},
     "output_type": "execute_result"
    }
   ],
   "execution_count": 33
  },
  {
   "metadata": {},
   "cell_type": "markdown",
   "source": "## Insights Summary",
   "id": "dad326e6edb58f17"
  },
  {
   "metadata": {
    "ExecuteTime": {
     "end_time": "2025-09-26T17:04:04.901087Z",
     "start_time": "2025-09-26T17:04:04.884250Z"
    }
   },
   "cell_type": "code",
   "source": [
    "insights = []\n",
    "\n",
    "if 'price' in df.columns:\n",
    "    price_skew = df['price'].skew()\n",
    "\n",
    "    skew_direction = \"right-skewed\" if abs(price_skew) > 1 else \"left-skewed\"\n",
    "    insights.append(f\"Price distribution is {skew_direction} (skewness: {price_skew:.3f})\")\n",
    "\n",
    "    price_cv = df['price'].std() / df['price'].mean()\n",
    "    if price_cv > 0.5:\n",
    "        insights.append(f\"High price variability detected (CV: {price_cv:.3f}) - suggests diverse price ranges\")\n",
    "\n",
    "if len(available_cols) > 1:\n",
    "    max_corr = correlation_matrix.abs().unstack().sort_values(ascending=False)\n",
    "    max_corr = max_corr[max_corr < 1.0].iloc[0]\n",
    "    if max_corr > 0.7:\n",
    "        insights.append(f\"Strong correlation detected (r={max_corr:.3f}) between variables\")\n",
    "\n",
    "print(\"Key Statistical Insights:\")\n",
    "for i, insight in enumerate(insights, 1):\n",
    "    print(f\"{i}. {insight}\")\n",
    "\n",
    "if not insights:\n",
    "    print(\"No significant statistical patterns detected in the current analysis.\")\n"
   ],
   "id": "9b51364590053b34",
   "outputs": [
    {
     "name": "stdout",
     "output_type": "stream",
     "text": [
      "Key Statistical Insights:\n",
      "1. Price distribution is left-skewed (skewness: -0.038)\n"
     ]
    }
   ],
   "execution_count": 34
  }
 ],
 "metadata": {
  "kernelspec": {
   "display_name": "Python 3",
   "language": "python",
   "name": "python3"
  },
  "language_info": {
   "codemirror_mode": {
    "name": "ipython",
    "version": 2
   },
   "file_extension": ".py",
   "mimetype": "text/x-python",
   "name": "python",
   "nbconvert_exporter": "python",
   "pygments_lexer": "ipython2",
   "version": "2.7.6"
  }
 },
 "nbformat": 4,
 "nbformat_minor": 5
}
